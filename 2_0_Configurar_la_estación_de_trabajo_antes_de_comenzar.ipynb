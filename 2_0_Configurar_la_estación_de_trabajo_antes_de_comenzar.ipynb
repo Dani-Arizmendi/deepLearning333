{
  "nbformat": 4,
  "nbformat_minor": 0,
  "metadata": {
    "kernelspec": {
      "display_name": "Python 3",
      "language": "python",
      "name": "python3"
    },
    "language_info": {
      "codemirror_mode": {
        "name": "ipython",
        "version": 3
      },
      "file_extension": ".py",
      "mimetype": "text/x-python",
      "name": "python",
      "nbconvert_exporter": "python",
      "pygments_lexer": "ipython3",
      "version": "3.8.5"
    },
    "colab": {
      "name": "2_0_Configurar_la_estación_de_trabajo_antes_de_comenzar.ipynb",
      "provenance": [],
      "include_colab_link": true
    }
  },
  "cells": [
    {
      "cell_type": "markdown",
      "metadata": {
        "id": "view-in-github",
        "colab_type": "text"
      },
      "source": [
        "<a href=\"https://colab.research.google.com/github/carlosemiliorabazo/deepLearning/blob/master/2_0_Configurar_la_estaci%C3%B3n_de_trabajo_antes_de_comenzar.ipynb\" target=\"_parent\"><img src=\"https://colab.research.google.com/assets/colab-badge.svg\" alt=\"Open In Colab\"/></a>"
      ]
    },
    {
      "cell_type": "markdown",
      "metadata": {
        "id": "1UbiUCAc102-"
      },
      "source": [
        "## Configurar la estación de trabajo antes de comenzar"
      ]
    },
    {
      "cell_type": "markdown",
      "metadata": {
        "id": "u109gY1w103A"
      },
      "source": [
        "- Si se tiene una **GPU NVIDIA** moderna, mejor que mejor (**TITAN X o GTX 1080 Ti**) entre 1K dólares y 1,5K dólares -> Si te vas a tomar en serio esto del Deep Learning\n",
        "- Como alternativa:\n",
        "    - **Amazon Web Services**\n",
        "        - Instancia **GPU AWS p2.xlarge** (0,9 dólares por hora) - Está bien para uso ocasional, que es lo que haremos\n",
        "        - Deep Learning AMI EC2 oficial https://aws.amazon.com/es/machine-learning/amis/?c=14&pt=17 y experimentos de Keras como notebooks de Jupyter en EC2 (si no tenemos GPU en el ordenador local)\n",
        "    - **Google Cloud Platform**\n",
        "        - Instancia **n1-standard-8**\n",
        "        - Complemento **NVIDIA Tesla K80**\n",
        "- Estación de Trabajo Unix (Linux o Mac) - Si se usa Windows, poner un arranque dual con Ubuntu (Mejor que con máquina virtual VirtualBox, por ejemplo)\n",
        "- Para usar **Keras**, hay que instalar:\n",
        "    - **TensorFlow**\n",
        "    - **Theano** (este es el que usaremos) o CNTK\n",
        "- Notebooks de Jupyter de https://jupyter.org instalados mejor desde https://www.anaconda.com/ solo si se tiene una GPU NVIDIA de gama alta. "
      ]
    },
    {
      "cell_type": "markdown",
      "metadata": {
        "id": "ofJqYuY8103B"
      },
      "source": [
        "### Ejecutar notebooks de Jupyter en una instancia de GPU en EC2"
      ]
    },
    {
      "cell_type": "markdown",
      "metadata": {
        "id": "CKvNWbb-103B"
      },
      "source": [
        "https://blog.keras.io"
      ]
    },
    {
      "cell_type": "markdown",
      "metadata": {
        "id": "h47exWu8103C"
      },
      "source": [
        "Crearse, con el correo de la universidad, una cuenta gratuita (aunque pide tarjeta de crédito en el alta) de AWS por 12 meses con recursos limitados en:\n",
        "- https://aws.amazon.com/es/free/?nc2=h_ql_pr_ft&all-free-tier.sort-by=item.additionalFields.SortRank&all-free-tier.sort-order=asc&awsf.Free%20Tier%20Types=*all&awsf.Free%20Tier%20Categories=*all\n"
      ]
    },
    {
      "cell_type": "markdown",
      "metadata": {
        "id": "ojgtn84t103C"
      },
      "source": [
        "- Estando ya **logado**, ir a **panel de control de EC2** y **lanzar instancia** en https://console.aws.amazon.com/ec2/v2\n",
        "- Seleccionar **AWS Marketpace** y buscar **deep learning** en el cuadro de búsqueda hasta encontrar **Deep Learning AMI Ubuntu Version** y seleccionar el primero: **Deep Learning Base AMI Ubuntu 16.04 Version 34.0 Support by Bansir**. **AMI** es el acrónimo de **AMAZON MACHINE IMAGE**\n",
        "- Seleccionamos la instancia **p2.xlarge** que proporciona acceso a una GPU (a 0,9 dolares/hora)\n",
        "- Ojo, esta **versión gratuita es durante 5 días**. No se le cobrará el software, pero se seguirán aplicando cargos por la infraestructura de AWS. La versión de **prueba gratuita pasará a ser una suscripción de pago** automáticamente **tras su vencimiento**.\n",
        "- Mantenemos la configuración predeterminada para los pasos:\n",
        "    - **Configure Instance**: p2.xlarge\n",
        "    - **Add Storage**\n",
        "    - **Add Tags**\n",
        "- Pero personalizamos el paso **Configure Security Group**\n",
        "    - Crear un nuevo grupo de seguridad\n",
        "        - SSH | TCP | 22 | Custom: 0.0.0.0/0\n",
        "        - Custom TCP Rule | TCP | 8888 |Anywhere: 0.0.0.0/0,::/0 \n",
        "        \n",
        "        La hacemos accesible desde cualquier IP a pesar de los Warnings por cuestiones de IP dinámica de nuestros equipos.. Añadiremos una protección con contraseña para reducir el riesgo"
      ]
    },
    {
      "cell_type": "markdown",
      "metadata": {
        "id": "RMj8qDHM103D"
      },
      "source": [
        "- Pulsamos **lanzar** y nos preguntará si deseamos crear nuevas claves de conexión. Creamos claves nuevas y las descargamos. Un par de claves consta de una **clave pública** que **AWS almacena** y un archivo de **claves privadas** que **almacenamos nosotros**. Juntas, nos permiten conectarnos a nuestra instancia de forma segura. Para las AMI de Linux, el archivo de claves privadas nos permite establecer una conexión SSH segura con su instancia. Amazon EC2 es compatible con los tipos de clave RSA y ED25519.\n",
        "    - Generamos el par del claves RSA con nombre, en mi caso, dl_carlosrabazo\n",
        "    - Lanzamos la instancia"
      ]
    },
    {
      "cell_type": "markdown",
      "metadata": {
        "id": "d2lHNiix103E"
      },
      "source": [
        "- Nos conectamos a la instancia recien creada desde el **panel de control EC2** seleccionandola y pulsando el botón **Connect** y siguiendo las instrucciones que permiten configurar el acceso desde un cliente SSH usando las claves generadas:\n",
        "\n",
        "```\n",
        "    chmod 400 dl_carlosrabazo.pem\n",
        "    ssh -i \"dl_carlosrabazo.pem\" ubuntu@ec2-54-147-126-214.compute-1.amazonaws.com\n",
        "```\n",
        "\n"
      ]
    },
    {
      "cell_type": "markdown",
      "metadata": {
        "id": "8xajGCXN103E"
      },
      "source": [
        "- Una vez que se haya iniciado la sesión en la instancia mediante SSH, creamos un directorio ssl en la raiz de la instancia y creamos un nuevo certificado SSL usando OpenSSL, creando los archivos cert.key y cert.pem en el nuevo directorio\n",
        "\n",
        "```\n",
        "$ mkdir ssl\n",
        "$ cd ssl\n",
        "$ openssl req -x509 -nodes -days 365 -newkey rsa:1024 -keyout \"cert.key\" -out \"cert.pem\" -batch\n",
        "```\n"
      ]
    },
    {
      "cell_type": "markdown",
      "metadata": {
        "id": "nKuE-AKp103F"
      },
      "source": [
        "### Configurar Jupyter"
      ]
    },
    {
      "cell_type": "code",
      "metadata": {
        "id": "wc6h55pW103F"
      },
      "source": [
        ""
      ],
      "execution_count": null,
      "outputs": []
    },
    {
      "cell_type": "code",
      "metadata": {
        "id": "UiVt3FNA103G"
      },
      "source": [
        ""
      ],
      "execution_count": null,
      "outputs": []
    },
    {
      "cell_type": "code",
      "metadata": {
        "id": "260x0gmn103G"
      },
      "source": [
        ""
      ],
      "execution_count": null,
      "outputs": []
    },
    {
      "cell_type": "code",
      "metadata": {
        "id": "WQfemXym103G"
      },
      "source": [
        ""
      ],
      "execution_count": null,
      "outputs": []
    },
    {
      "cell_type": "code",
      "metadata": {
        "id": "B1OxDdKB103H"
      },
      "source": [
        ""
      ],
      "execution_count": null,
      "outputs": []
    },
    {
      "cell_type": "markdown",
      "metadata": {
        "id": "8UtTMH-v103H"
      },
      "source": [
        "### Instalar Keras en la instancia EC2 de AWS"
      ]
    },
    {
      "cell_type": "code",
      "metadata": {
        "id": "milNjsRA103H"
      },
      "source": [
        ""
      ],
      "execution_count": null,
      "outputs": []
    },
    {
      "cell_type": "code",
      "metadata": {
        "id": "KtmktLsk103H"
      },
      "source": [
        ""
      ],
      "execution_count": null,
      "outputs": []
    },
    {
      "cell_type": "code",
      "metadata": {
        "id": "2Q_jmSMA103I"
      },
      "source": [
        ""
      ],
      "execution_count": null,
      "outputs": []
    },
    {
      "cell_type": "code",
      "metadata": {
        "id": "gNezZYdt103I"
      },
      "source": [
        ""
      ],
      "execution_count": null,
      "outputs": []
    },
    {
      "cell_type": "code",
      "metadata": {
        "id": "YQO3GV7x103I"
      },
      "source": [
        ""
      ],
      "execution_count": null,
      "outputs": []
    },
    {
      "cell_type": "markdown",
      "metadata": {
        "id": "OpCycDxQ103I"
      },
      "source": [
        "### Configurar la redirección del puerto local"
      ]
    },
    {
      "cell_type": "code",
      "metadata": {
        "id": "5rHON2WH103J"
      },
      "source": [
        ""
      ],
      "execution_count": null,
      "outputs": []
    },
    {
      "cell_type": "code",
      "metadata": {
        "id": "IfX-zaBE103J"
      },
      "source": [
        ""
      ],
      "execution_count": null,
      "outputs": []
    },
    {
      "cell_type": "code",
      "metadata": {
        "id": "4DgJoBQR103J"
      },
      "source": [
        ""
      ],
      "execution_count": null,
      "outputs": []
    },
    {
      "cell_type": "code",
      "metadata": {
        "id": "L15oZVOS103J"
      },
      "source": [
        ""
      ],
      "execution_count": null,
      "outputs": []
    },
    {
      "cell_type": "code",
      "metadata": {
        "id": "d8rADgTp103J"
      },
      "source": [
        ""
      ],
      "execution_count": null,
      "outputs": []
    },
    {
      "cell_type": "markdown",
      "metadata": {
        "id": "U1SBYdSr103K"
      },
      "source": [
        "### Utilizar Jupyter desde el navegador local"
      ]
    },
    {
      "cell_type": "code",
      "metadata": {
        "id": "zR_pef2O103K"
      },
      "source": [
        ""
      ],
      "execution_count": null,
      "outputs": []
    },
    {
      "cell_type": "code",
      "metadata": {
        "id": "Phc6_SKy103K"
      },
      "source": [
        ""
      ],
      "execution_count": null,
      "outputs": []
    },
    {
      "cell_type": "code",
      "metadata": {
        "id": "nlDrPLps103K"
      },
      "source": [
        ""
      ],
      "execution_count": null,
      "outputs": []
    },
    {
      "cell_type": "code",
      "metadata": {
        "id": "0UNhy9ur103K"
      },
      "source": [
        ""
      ],
      "execution_count": null,
      "outputs": []
    },
    {
      "cell_type": "code",
      "metadata": {
        "jupyter": {
          "source_hidden": true
        },
        "id": "0iFjEZAg103K"
      },
      "source": [
        ""
      ],
      "execution_count": null,
      "outputs": []
    }
  ]
}